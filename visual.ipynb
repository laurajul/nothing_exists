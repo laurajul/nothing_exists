{
 "cells": [
  {
   "cell_type": "code",
   "execution_count": 1,
   "metadata": {},
   "outputs": [
    {
     "name": "stdout",
     "output_type": "stream",
     "text": [
      "Defaulting to user installation because normal site-packages is not writeable\n",
      "Collecting gtts\n",
      "  Downloading gTTS-2.5.4-py3-none-any.whl (29 kB)\n",
      "Collecting pydub\n",
      "  Downloading pydub-0.25.1-py2.py3-none-any.whl (32 kB)\n",
      "Collecting matplotlib\n",
      "  Downloading matplotlib-3.10.0-cp310-cp310-manylinux_2_17_x86_64.manylinux2014_x86_64.whl (8.6 MB)\n",
      "\u001b[2K     \u001b[38;2;114;156;31m━━━━━━━━━━━━━━━━━━━━━━━━━━━━━━━━━━━━━━━━\u001b[0m \u001b[32m8.6/8.6 MB\u001b[0m \u001b[31m8.0 MB/s\u001b[0m eta \u001b[36m0:00:00\u001b[0mm eta \u001b[36m0:00:01\u001b[0m[36m0:00:01\u001b[0m\n",
      "\u001b[?25hCollecting svgwrite\n",
      "  Downloading svgwrite-1.4.3-py3-none-any.whl (67 kB)\n",
      "\u001b[2K     \u001b[38;2;114;156;31m━━━━━━━━━━━━━━━━━━━━━━━━━━━━━━━━━━━━━━━━\u001b[0m \u001b[32m67.1/67.1 KB\u001b[0m \u001b[31m11.8 MB/s\u001b[0m eta \u001b[36m0:00:00\u001b[0m\n",
      "\u001b[?25hRequirement already satisfied: numpy in /usr/lib/python3/dist-packages (1.21.5)\n",
      "Requirement already satisfied: click<8.2,>=7.1 in /usr/lib/python3/dist-packages (from gtts) (8.0.3)\n",
      "Collecting requests<3,>=2.27\n",
      "  Downloading requests-2.32.3-py3-none-any.whl (64 kB)\n",
      "\u001b[2K     \u001b[38;2;114;156;31m━━━━━━━━━━━━━━━━━━━━━━━━━━━━━━━━━━━━━━━━\u001b[0m \u001b[32m64.9/64.9 KB\u001b[0m \u001b[31m8.3 MB/s\u001b[0m eta \u001b[36m0:00:00\u001b[0m\n",
      "\u001b[?25hCollecting contourpy>=1.0.1\n",
      "  Downloading contourpy-1.3.1-cp310-cp310-manylinux_2_17_x86_64.manylinux2014_x86_64.whl (324 kB)\n",
      "\u001b[2K     \u001b[38;2;114;156;31m━━━━━━━━━━━━━━━━━━━━━━━━━━━━━━━━━━━━━━━\u001b[0m \u001b[32m325.0/325.0 KB\u001b[0m \u001b[31m7.8 MB/s\u001b[0m eta \u001b[36m0:00:00\u001b[0m[36m0:00:01\u001b[0m\n",
      "\u001b[?25hCollecting kiwisolver>=1.3.1\n",
      "  Downloading kiwisolver-1.4.8-cp310-cp310-manylinux_2_12_x86_64.manylinux2010_x86_64.whl (1.6 MB)\n",
      "\u001b[2K     \u001b[38;2;114;156;31m━━━━━━━━━━━━━━━━━━━━━━━━━━━━━━━━━━━━━━━━\u001b[0m \u001b[32m1.6/1.6 MB\u001b[0m \u001b[31m8.5 MB/s\u001b[0m eta \u001b[36m0:00:00\u001b[0mm eta \u001b[36m0:00:01\u001b[0m[36m0:00:01\u001b[0mm\n",
      "\u001b[?25hRequirement already satisfied: pillow>=8 in /usr/lib/python3/dist-packages (from matplotlib) (9.0.1)\n",
      "Collecting cycler>=0.10\n",
      "  Downloading cycler-0.12.1-py3-none-any.whl (8.3 kB)\n",
      "Requirement already satisfied: packaging>=20.0 in /home/lauhp/.local/lib/python3.10/site-packages (from matplotlib) (24.2)\n",
      "Requirement already satisfied: pyparsing>=2.3.1 in /usr/lib/python3/dist-packages (from matplotlib) (2.4.7)\n",
      "Collecting fonttools>=4.22.0\n",
      "  Downloading fonttools-4.56.0-cp310-cp310-manylinux_2_17_x86_64.manylinux2014_x86_64.whl (4.6 MB)\n",
      "\u001b[2K     \u001b[38;2;114;156;31m━━━━━━━━━━━━━━━━━━━━━━━━━━━━━━━━━━━━━━━━\u001b[0m \u001b[32m4.6/4.6 MB\u001b[0m \u001b[31m8.7 MB/s\u001b[0m eta \u001b[36m0:00:00\u001b[0mm eta \u001b[36m0:00:01\u001b[0m[36m0:00:01\u001b[0m\n",
      "\u001b[?25hRequirement already satisfied: python-dateutil>=2.7 in /home/lauhp/.local/lib/python3.10/site-packages (from matplotlib) (2.9.0.post0)\n",
      "Collecting numpy\n",
      "  Downloading numpy-2.2.2-cp310-cp310-manylinux_2_17_x86_64.manylinux2014_x86_64.whl (16.4 MB)\n",
      "\u001b[2K     \u001b[38;2;114;156;31m━━━━━━━━━━━━━━━━━━━━━━━━━━━━━━━━━━━━━━━━\u001b[0m \u001b[32m16.4/16.4 MB\u001b[0m \u001b[31m8.4 MB/s\u001b[0m eta \u001b[36m0:00:00\u001b[0mm eta \u001b[36m0:00:01\u001b[0m[36m0:00:01\u001b[0m\n",
      "\u001b[?25hRequirement already satisfied: six>=1.5 in /usr/lib/python3/dist-packages (from python-dateutil>=2.7->matplotlib) (1.16.0)\n",
      "Collecting charset-normalizer<4,>=2\n",
      "  Downloading charset_normalizer-3.4.1-cp310-cp310-manylinux_2_17_x86_64.manylinux2014_x86_64.whl (146 kB)\n",
      "\u001b[2K     \u001b[38;2;114;156;31m━━━━━━━━━━━━━━━━━━━━━━━━━━━━━━━━━━━━━━━\u001b[0m \u001b[32m146.1/146.1 KB\u001b[0m \u001b[31m5.4 MB/s\u001b[0m eta \u001b[36m0:00:00\u001b[0m\n",
      "\u001b[?25hRequirement already satisfied: certifi>=2017.4.17 in /usr/lib/python3/dist-packages (from requests<3,>=2.27->gtts) (2020.6.20)\n",
      "Requirement already satisfied: urllib3<3,>=1.21.1 in /usr/lib/python3/dist-packages (from requests<3,>=2.27->gtts) (1.26.5)\n",
      "Requirement already satisfied: idna<4,>=2.5 in /usr/lib/python3/dist-packages (from requests<3,>=2.27->gtts) (3.3)\n",
      "Installing collected packages: pydub, svgwrite, numpy, kiwisolver, fonttools, cycler, charset-normalizer, requests, contourpy, matplotlib, gtts\n",
      "Successfully installed charset-normalizer-3.4.1 contourpy-1.3.1 cycler-0.12.1 fonttools-4.56.0 gtts-2.5.4 kiwisolver-1.4.8 matplotlib-3.10.0 numpy-2.2.2 pydub-0.25.1 requests-2.32.3 svgwrite-1.4.3\n"
     ]
    }
   ],
   "source": [
    "!pip install gtts pydub matplotlib svgwrite numpy"
   ]
  },
  {
   "cell_type": "code",
   "execution_count": null,
   "metadata": {},
   "outputs": [],
   "source": [
    "from gtts import gTTS\n",
    "\n",
    "def text_to_speech(sentence, output_file='audio/output.wav'):\n",
    "    tts = gTTS(sentence)\n",
    "    tts.save(output_file)\n",
    "    print(f\"Saved speech to {output_file}\")\n"
   ]
  },
  {
   "cell_type": "code",
   "execution_count": null,
   "metadata": {},
   "outputs": [],
   "source": [
    "from gtts import gTTS\n",
    "from pydub import AudioSegment\n",
    "\n",
    "def text_to_speech(sentence, output_wav='audio/output.wav'):\n",
    "    \n",
    "    temp_mp3 = \"temp.mp3\" # Generate MP3 from text\n",
    "    tts = gTTS(sentence)\n",
    "    tts.save(temp_mp3)\n",
    "    \n",
    "\n",
    "    audio = AudioSegment.from_file(temp_mp3, format=\"mp3\")\n",
    "    audio = audio.set_channels(1)  # Ensure mono channel\n",
    "    audio = audio.set_frame_rate(16000)  # Set sample rate (e.g., 16kHz)\n",
    "    audio.export(output_wav, format=\"wav\")\n",
    "    \n",
    "    print(f\"Saved speech to {output_wav}\")\n"
   ]
  },
  {
   "cell_type": "code",
   "execution_count": 4,
   "metadata": {},
   "outputs": [],
   "source": [
    "from pydub import AudioSegment\n",
    "import numpy as np\n",
    "\n",
    "def extract_waveform(audio_file):\n",
    "    audio = AudioSegment.from_file(audio_file)\n",
    "    samples = np.array(audio.get_array_of_samples())\n",
    "    return samples\n"
   ]
  },
  {
   "cell_type": "code",
   "execution_count": null,
   "metadata": {},
   "outputs": [],
   "source": [
    "import matplotlib.pyplot as plt\n",
    "import numpy as np\n",
    "\n",
    "def waveform_to_polar(samples, output_svg='img/waveform_polar.svg'):\n",
    "    theta = np.linspace(0, 2 * np.pi, len(samples))\n",
    "    radius = np.abs(samples) / max(np.abs(samples))  # Normalize amplitude\n",
    "\n",
    "    plt.figure(figsize=(6, 6))\n",
    "    ax = plt.subplot(111, polar=True)\n",
    "    ax.plot(theta, radius)\n",
    "    ax.set_yticklabels([])\n",
    "    plt.savefig(output_svg)"
   ]
  },
  {
   "cell_type": "code",
   "execution_count": null,
   "metadata": {},
   "outputs": [],
   "source": [
    "import svgwrite\n",
    "\n",
    "def save_polar_svg(samples, output_svg='img/waveform_polar.svg'):\n",
    "    dwg = svgwrite.Drawing(output_svg, size=('800px', '800px'))\n",
    "    center = (400, 400)\n",
    "    radius = 300\n",
    "\n",
    "    num_samples = len(samples)\n",
    "    max_amplitude = max(np.abs(samples))\n",
    "    \n",
    "    for i, sample in enumerate(samples):\n",
    "        angle = 2 * np.pi * i / num_samples\n",
    "        r = radius * (abs(sample) / max_amplitude)\n",
    "        x = center[0] + r * np.cos(angle)\n",
    "        y = center[1] + r * np.sin(angle)\n",
    "        dwg.add(dwg.line(center, (x, y), stroke=svgwrite.rgb(0, 0, 0, '%')))\n",
    "\n",
    "    dwg.save()"
   ]
  },
  {
   "cell_type": "code",
   "execution_count": 12,
   "metadata": {},
   "outputs": [
    {
     "name": "stdout",
     "output_type": "stream",
     "text": [
      "Saved speech to output.wav\n",
      "SVG saved to waveform_polar.svg\n"
     ]
    }
   ],
   "source": [
    "sentence = \"Nothing in nature exists alone\"\n",
    "audio_file = 'output.wav'\n",
    "svg_file = 'waveform_polar.svg'\n",
    "\n",
    "# Step 1: Text-to-Speech\n",
    "text_to_speech(sentence, audio_file)\n",
    "\n",
    "# Step 2: Extract waveform data\n",
    "samples = extract_waveform(audio_file)\n",
    "\n",
    "# Step 3 & 4: Generate polar SVG\n",
    "save_polar_svg(samples, svg_file)\n"
   ]
  },
  {
   "cell_type": "code",
   "execution_count": null,
   "metadata": {},
   "outputs": [],
   "source": []
  }
 ],
 "metadata": {
  "kernelspec": {
   "display_name": "Python 3",
   "language": "python",
   "name": "python3"
  },
  "language_info": {
   "codemirror_mode": {
    "name": "ipython",
    "version": 3
   },
   "file_extension": ".py",
   "mimetype": "text/x-python",
   "name": "python",
   "nbconvert_exporter": "python",
   "pygments_lexer": "ipython3",
   "version": "3.10.12"
  }
 },
 "nbformat": 4,
 "nbformat_minor": 2
}
