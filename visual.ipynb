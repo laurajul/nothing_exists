{
 "cells": [
  {
   "cell_type": "code",
   "execution_count": 2,
   "metadata": {},
   "outputs": [
    {
     "name": "stdout",
     "output_type": "stream",
     "text": [
      "Defaulting to user installation because normal site-packages is not writeable\n",
      "Requirement already satisfied: gtts in /home/lauhp/.local/lib/python3.10/site-packages (2.5.4)\n",
      "Requirement already satisfied: pydub in /home/lauhp/.local/lib/python3.10/site-packages (0.25.1)\n",
      "Requirement already satisfied: matplotlib in /home/lauhp/.local/lib/python3.10/site-packages (3.10.0)\n",
      "Requirement already satisfied: svgwrite in /home/lauhp/.local/lib/python3.10/site-packages (1.4.3)\n",
      "Requirement already satisfied: numpy in /home/lauhp/.local/lib/python3.10/site-packages (2.2.2)\n",
      "Requirement already satisfied: requests<3,>=2.27 in /home/lauhp/.local/lib/python3.10/site-packages (from gtts) (2.32.3)\n",
      "Requirement already satisfied: click<8.2,>=7.1 in /usr/lib/python3/dist-packages (from gtts) (8.0.3)\n",
      "Requirement already satisfied: python-dateutil>=2.7 in /home/lauhp/.local/lib/python3.10/site-packages (from matplotlib) (2.9.0.post0)\n",
      "Requirement already satisfied: packaging>=20.0 in /home/lauhp/.local/lib/python3.10/site-packages (from matplotlib) (24.2)\n",
      "Requirement already satisfied: contourpy>=1.0.1 in /home/lauhp/.local/lib/python3.10/site-packages (from matplotlib) (1.3.1)\n",
      "Requirement already satisfied: kiwisolver>=1.3.1 in /home/lauhp/.local/lib/python3.10/site-packages (from matplotlib) (1.4.8)\n",
      "Requirement already satisfied: cycler>=0.10 in /home/lauhp/.local/lib/python3.10/site-packages (from matplotlib) (0.12.1)\n",
      "Requirement already satisfied: pillow>=8 in /usr/lib/python3/dist-packages (from matplotlib) (9.0.1)\n",
      "Requirement already satisfied: fonttools>=4.22.0 in /home/lauhp/.local/lib/python3.10/site-packages (from matplotlib) (4.56.0)\n",
      "Requirement already satisfied: pyparsing>=2.3.1 in /usr/lib/python3/dist-packages (from matplotlib) (2.4.7)\n",
      "Requirement already satisfied: six>=1.5 in /usr/lib/python3/dist-packages (from python-dateutil>=2.7->matplotlib) (1.16.0)\n",
      "Requirement already satisfied: certifi>=2017.4.17 in /usr/lib/python3/dist-packages (from requests<3,>=2.27->gtts) (2020.6.20)\n",
      "Requirement already satisfied: idna<4,>=2.5 in /usr/lib/python3/dist-packages (from requests<3,>=2.27->gtts) (3.3)\n",
      "Requirement already satisfied: charset-normalizer<4,>=2 in /home/lauhp/.local/lib/python3.10/site-packages (from requests<3,>=2.27->gtts) (3.4.1)\n",
      "Requirement already satisfied: urllib3<3,>=1.21.1 in /usr/lib/python3/dist-packages (from requests<3,>=2.27->gtts) (1.26.5)\n"
     ]
    }
   ],
   "source": [
    "!pip install gtts pydub matplotlib svgwrite numpy"
   ]
  },
  {
   "cell_type": "code",
   "execution_count": 9,
   "metadata": {},
   "outputs": [],
   "source": [
    "from gtts import gTTS\n",
    "\n",
    "def text_to_speech(sentence, output_file='audio/output.wav'):\n",
    "    tts = gTTS(sentence)\n",
    "    tts.save(output_file)\n",
    "    print(f\"Saved speech to {output_file}\")\n"
   ]
  },
  {
   "cell_type": "code",
   "execution_count": 10,
   "metadata": {},
   "outputs": [],
   "source": [
    "from gtts import gTTS\n",
    "from pydub import AudioSegment\n",
    "\n",
    "def text_to_speech(sentence, output_wav='audio/output.wav'):\n",
    "    \n",
    "    temp_mp3 = \"temp.mp3\" # Generate MP3 from text\n",
    "    tts = gTTS(sentence)\n",
    "    tts.save(temp_mp3)\n",
    "    \n",
    "\n",
    "    audio = AudioSegment.from_file(temp_mp3, format=\"mp3\")\n",
    "    audio = audio.set_channels(1)  # Ensure mono channel\n",
    "    audio = audio.set_frame_rate(16000)  # Set sample rate (e.g., 16kHz)\n",
    "    audio.export(output_wav, format=\"wav\")\n",
    "    \n",
    "    print(f\"Saved speech to {output_wav}\")\n"
   ]
  },
  {
   "cell_type": "code",
   "execution_count": 11,
   "metadata": {},
   "outputs": [],
   "source": [
    "from pydub import AudioSegment\n",
    "import numpy as np\n",
    "\n",
    "def extract_waveform(audio_file):\n",
    "    audio = AudioSegment.from_file(audio_file)\n",
    "    samples = np.array(audio.get_array_of_samples())\n",
    "    return samples\n"
   ]
  },
  {
   "cell_type": "code",
   "execution_count": 12,
   "metadata": {},
   "outputs": [],
   "source": [
    "import matplotlib.pyplot as plt\n",
    "import numpy as np\n",
    "\n",
    "def waveform_to_polar(samples, output_svg='img/waveform_polar.svg'):\n",
    "    theta = np.linspace(0, 2 * np.pi, len(samples))\n",
    "    radius = np.abs(samples) / max(np.abs(samples))  # Normalize amplitude\n",
    "\n",
    "    plt.figure(figsize=(2, 2))\n",
    "    ax = plt.subplot(111, polar=True)\n",
    "    ax.plot(theta, radius)\n",
    "    ax.set_yticklabels([])\n",
    "    plt.savefig(output_svg)"
   ]
  },
  {
   "cell_type": "code",
   "execution_count": 17,
   "metadata": {},
   "outputs": [],
   "source": [
    "import svgwrite\n",
    "\n",
    "def save_polar_svg(samples, output_svg='img/waveform_polar.svg'):\n",
    "    dwg = svgwrite.Drawing(output_svg, size=('200px', '600px'))\n",
    "    center = (400, 400)\n",
    "    radius = 50\n",
    "\n",
    "    num_samples = len(samples)\n",
    "    max_amplitude = max(np.abs(samples))\n",
    "    \n",
    "    for i, sample in enumerate(samples):\n",
    "        angle = 2 * np.pi * i / num_samples\n",
    "        r = radius * (abs(sample) / max_amplitude)\n",
    "        x = center[0] + r * np.cos(angle)\n",
    "        y = center[1] + r * np.sin(angle)\n",
    "        dwg.add(dwg.line(center, (x, y), stroke=svgwrite.rgb(0, 0, 0, '%')))\n",
    "\n",
    "    dwg.save()"
   ]
  },
  {
   "cell_type": "code",
   "execution_count": 18,
   "metadata": {},
   "outputs": [
    {
     "name": "stdout",
     "output_type": "stream",
     "text": [
      "Saved speech to audio/output.wav\n"
     ]
    }
   ],
   "source": [
    "sentence = \"Nothing in nature exists alone\"\n",
    "audio_file = 'audio/output.wav'\n",
    "svg_file = 'img/waveform_polar.svg'\n",
    "\n",
    "# Step 1: Text-to-Speech\n",
    "text_to_speech(sentence, audio_file)\n",
    "\n",
    "# Step 2: Extract waveform data\n",
    "samples = extract_waveform(audio_file)\n",
    "\n",
    "# Step 3 & 4: Generate polar SVG\n",
    "save_polar_svg(samples, svg_file)\n"
   ]
  },
  {
   "cell_type": "code",
   "execution_count": null,
   "metadata": {},
   "outputs": [],
   "source": []
  },
  {
   "cell_type": "code",
   "execution_count": null,
   "metadata": {},
   "outputs": [],
   "source": []
  }
 ],
 "metadata": {
  "kernelspec": {
   "display_name": "Python 3",
   "language": "python",
   "name": "python3"
  },
  "language_info": {
   "codemirror_mode": {
    "name": "ipython",
    "version": 3
   },
   "file_extension": ".py",
   "mimetype": "text/x-python",
   "name": "python",
   "nbconvert_exporter": "python",
   "pygments_lexer": "ipython3",
   "version": "3.10.12"
  }
 },
 "nbformat": 4,
 "nbformat_minor": 2
}
