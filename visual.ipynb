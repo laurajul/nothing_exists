{
 "cells": [
  {
   "cell_type": "code",
   "execution_count": 2,
   "metadata": {},
   "outputs": [
    {
     "name": "stdout",
     "output_type": "stream",
     "text": [
      "Collecting gtts\n",
      "  Downloading gTTS-2.5.4-py3-none-any.whl.metadata (4.1 kB)\n",
      "Collecting pydub\n",
      "  Using cached pydub-0.25.1-py2.py3-none-any.whl.metadata (1.4 kB)\n",
      "Collecting matplotlib\n",
      "  Downloading matplotlib-3.10.0-cp310-cp310-manylinux_2_17_x86_64.manylinux2014_x86_64.whl.metadata (11 kB)\n",
      "Collecting svgwrite\n",
      "  Downloading svgwrite-1.4.3-py3-none-any.whl.metadata (8.8 kB)\n",
      "Collecting numpy\n",
      "  Downloading numpy-2.2.1-cp310-cp310-manylinux_2_17_x86_64.manylinux2014_x86_64.whl.metadata (62 kB)\n",
      "Collecting requests<3,>=2.27 (from gtts)\n",
      "  Using cached requests-2.32.3-py3-none-any.whl.metadata (4.6 kB)\n",
      "Collecting click<8.2,>=7.1 (from gtts)\n",
      "  Downloading click-8.1.8-py3-none-any.whl.metadata (2.3 kB)\n",
      "Collecting contourpy>=1.0.1 (from matplotlib)\n",
      "  Downloading contourpy-1.3.1-cp310-cp310-manylinux_2_17_x86_64.manylinux2014_x86_64.whl.metadata (5.4 kB)\n",
      "Collecting cycler>=0.10 (from matplotlib)\n",
      "  Using cached cycler-0.12.1-py3-none-any.whl.metadata (3.8 kB)\n",
      "Collecting fonttools>=4.22.0 (from matplotlib)\n",
      "  Downloading fonttools-4.55.3-cp310-cp310-manylinux_2_17_x86_64.manylinux2014_x86_64.whl.metadata (165 kB)\n",
      "Collecting kiwisolver>=1.3.1 (from matplotlib)\n",
      "  Downloading kiwisolver-1.4.8-cp310-cp310-manylinux_2_12_x86_64.manylinux2010_x86_64.whl.metadata (6.2 kB)\n",
      "Requirement already satisfied: packaging>=20.0 in ./.venv/lib/python3.10/site-packages (from matplotlib) (24.2)\n",
      "Collecting pillow>=8 (from matplotlib)\n",
      "  Downloading pillow-11.1.0-cp310-cp310-manylinux_2_28_x86_64.whl.metadata (9.1 kB)\n",
      "Collecting pyparsing>=2.3.1 (from matplotlib)\n",
      "  Downloading pyparsing-3.2.1-py3-none-any.whl.metadata (5.0 kB)\n",
      "Requirement already satisfied: python-dateutil>=2.7 in ./.venv/lib/python3.10/site-packages (from matplotlib) (2.9.0.post0)\n",
      "Requirement already satisfied: six>=1.5 in ./.venv/lib/python3.10/site-packages (from python-dateutil>=2.7->matplotlib) (1.17.0)\n",
      "Collecting charset-normalizer<4,>=2 (from requests<3,>=2.27->gtts)\n",
      "  Downloading charset_normalizer-3.4.1-cp310-cp310-manylinux_2_17_x86_64.manylinux2014_x86_64.whl.metadata (35 kB)\n",
      "Collecting idna<4,>=2.5 (from requests<3,>=2.27->gtts)\n",
      "  Using cached idna-3.10-py3-none-any.whl.metadata (10 kB)\n",
      "Collecting urllib3<3,>=1.21.1 (from requests<3,>=2.27->gtts)\n",
      "  Downloading urllib3-2.3.0-py3-none-any.whl.metadata (6.5 kB)\n",
      "Collecting certifi>=2017.4.17 (from requests<3,>=2.27->gtts)\n",
      "  Downloading certifi-2024.12.14-py3-none-any.whl.metadata (2.3 kB)\n",
      "Downloading gTTS-2.5.4-py3-none-any.whl (29 kB)\n",
      "Using cached pydub-0.25.1-py2.py3-none-any.whl (32 kB)\n",
      "Downloading matplotlib-3.10.0-cp310-cp310-manylinux_2_17_x86_64.manylinux2014_x86_64.whl (8.6 MB)\n",
      "\u001b[2K   \u001b[90m━━━━━━━━━━━━━━━━━━━━━━━━━━━━━━━━━━━━━━━━\u001b[0m \u001b[32m8.6/8.6 MB\u001b[0m \u001b[31m8.9 MB/s\u001b[0m eta \u001b[36m0:00:00\u001b[0ma \u001b[36m0:00:01\u001b[0m\n",
      "\u001b[?25hDownloading svgwrite-1.4.3-py3-none-any.whl (67 kB)\n",
      "Downloading numpy-2.2.1-cp310-cp310-manylinux_2_17_x86_64.manylinux2014_x86_64.whl (16.4 MB)\n",
      "\u001b[2K   \u001b[90m━━━━━━━━━━━━━━━━━━━━━━━━━━━━━━━━━━━━━━━━\u001b[0m \u001b[32m16.4/16.4 MB\u001b[0m \u001b[31m9.1 MB/s\u001b[0m eta \u001b[36m0:00:00\u001b[0ma \u001b[36m0:00:01\u001b[0m\n",
      "\u001b[?25hDownloading click-8.1.8-py3-none-any.whl (98 kB)\n",
      "Downloading contourpy-1.3.1-cp310-cp310-manylinux_2_17_x86_64.manylinux2014_x86_64.whl (324 kB)\n",
      "Using cached cycler-0.12.1-py3-none-any.whl (8.3 kB)\n",
      "Downloading fonttools-4.55.3-cp310-cp310-manylinux_2_17_x86_64.manylinux2014_x86_64.whl (4.6 MB)\n",
      "\u001b[2K   \u001b[90m━━━━━━━━━━━━━━━━━━━━━━━━━━━━━━━━━━━━━━━━\u001b[0m \u001b[32m4.6/4.6 MB\u001b[0m \u001b[31m8.8 MB/s\u001b[0m eta \u001b[36m0:00:00\u001b[0ma \u001b[36m0:00:01\u001b[0m\n",
      "\u001b[?25hDownloading kiwisolver-1.4.8-cp310-cp310-manylinux_2_12_x86_64.manylinux2010_x86_64.whl (1.6 MB)\n",
      "\u001b[2K   \u001b[90m━━━━━━━━━━━━━━━━━━━━━━━━━━━━━━━━━━━━━━━━\u001b[0m \u001b[32m1.6/1.6 MB\u001b[0m \u001b[31m8.4 MB/s\u001b[0m eta \u001b[36m0:00:00\u001b[0m\n",
      "\u001b[?25hDownloading pillow-11.1.0-cp310-cp310-manylinux_2_28_x86_64.whl (4.5 MB)\n",
      "\u001b[2K   \u001b[90m━━━━━━━━━━━━━━━━━━━━━━━━━━━━━━━━━━━━━━━━\u001b[0m \u001b[32m4.5/4.5 MB\u001b[0m \u001b[31m8.7 MB/s\u001b[0m eta \u001b[36m0:00:00\u001b[0ma \u001b[36m0:00:01\u001b[0m\n",
      "\u001b[?25hDownloading pyparsing-3.2.1-py3-none-any.whl (107 kB)\n",
      "Using cached requests-2.32.3-py3-none-any.whl (64 kB)\n",
      "Downloading certifi-2024.12.14-py3-none-any.whl (164 kB)\n",
      "Downloading charset_normalizer-3.4.1-cp310-cp310-manylinux_2_17_x86_64.manylinux2014_x86_64.whl (146 kB)\n",
      "Using cached idna-3.10-py3-none-any.whl (70 kB)\n",
      "Downloading urllib3-2.3.0-py3-none-any.whl (128 kB)\n",
      "Installing collected packages: pydub, urllib3, svgwrite, pyparsing, pillow, numpy, kiwisolver, idna, fonttools, cycler, click, charset-normalizer, certifi, requests, contourpy, matplotlib, gtts\n",
      "Successfully installed certifi-2024.12.14 charset-normalizer-3.4.1 click-8.1.8 contourpy-1.3.1 cycler-0.12.1 fonttools-4.55.3 gtts-2.5.4 idna-3.10 kiwisolver-1.4.8 matplotlib-3.10.0 numpy-2.2.1 pillow-11.1.0 pydub-0.25.1 pyparsing-3.2.1 requests-2.32.3 svgwrite-1.4.3 urllib3-2.3.0\n"
     ]
    }
   ],
   "source": [
    "!pip install gtts pydub matplotlib svgwrite numpy"
   ]
  },
  {
   "cell_type": "code",
   "execution_count": 3,
   "metadata": {},
   "outputs": [],
   "source": [
    "from gtts import gTTS\n",
    "\n",
    "def text_to_speech(sentence, output_file='output.wav'):\n",
    "    tts = gTTS(sentence)\n",
    "    tts.save(output_file)\n",
    "    print(f\"Saved speech to {output_file}\")\n"
   ]
  },
  {
   "cell_type": "code",
   "execution_count": 11,
   "metadata": {},
   "outputs": [],
   "source": [
    "from gtts import gTTS\n",
    "from pydub import AudioSegment\n",
    "\n",
    "def text_to_speech(sentence, output_wav='output.wav'):\n",
    "    # Generate MP3 from text\n",
    "    temp_mp3 = \"temp.mp3\"\n",
    "    tts = gTTS(sentence)\n",
    "    tts.save(temp_mp3)\n",
    "    \n",
    "    # Convert MP3 to WAV\n",
    "    audio = AudioSegment.from_file(temp_mp3, format=\"mp3\")\n",
    "    audio = audio.set_channels(1)  # Ensure mono channel\n",
    "    audio = audio.set_frame_rate(16000)  # Set sample rate (e.g., 16kHz)\n",
    "    audio.export(output_wav, format=\"wav\")\n",
    "    \n",
    "    print(f\"Saved speech to {output_wav}\")\n"
   ]
  },
  {
   "cell_type": "code",
   "execution_count": 4,
   "metadata": {},
   "outputs": [],
   "source": [
    "from pydub import AudioSegment\n",
    "import numpy as np\n",
    "\n",
    "def extract_waveform(audio_file):\n",
    "    audio = AudioSegment.from_file(audio_file)\n",
    "    samples = np.array(audio.get_array_of_samples())\n",
    "    return samples\n"
   ]
  },
  {
   "cell_type": "code",
   "execution_count": 5,
   "metadata": {},
   "outputs": [],
   "source": [
    "import matplotlib.pyplot as plt\n",
    "import numpy as np\n",
    "\n",
    "def waveform_to_polar(samples, output_svg='waveform_polar.svg'):\n",
    "    theta = np.linspace(0, 2 * np.pi, len(samples))\n",
    "    radius = np.abs(samples) / max(np.abs(samples))  # Normalize amplitude\n",
    "\n",
    "    plt.figure(figsize=(6, 6))\n",
    "    ax = plt.subplot(111, polar=True)\n",
    "    ax.plot(theta, radius)\n",
    "    ax.set_yticklabels([])\n",
    "    plt.savefig(output_svg)\n",
    "    print(f\"Saved polar waveform to {output_svg}\")\n"
   ]
  },
  {
   "cell_type": "code",
   "execution_count": 8,
   "metadata": {},
   "outputs": [],
   "source": [
    "import svgwrite\n",
    "\n",
    "def save_polar_svg(samples, output_svg='waveform_polar.svg'):\n",
    "    dwg = svgwrite.Drawing(output_svg, size=('800px', '800px'))\n",
    "    center = (400, 400)\n",
    "    radius = 300\n",
    "\n",
    "    num_samples = len(samples)\n",
    "    max_amplitude = max(np.abs(samples))\n",
    "    \n",
    "    for i, sample in enumerate(samples):\n",
    "        angle = 2 * np.pi * i / num_samples\n",
    "        r = radius * (abs(sample) / max_amplitude)\n",
    "        x = center[0] + r * np.cos(angle)\n",
    "        y = center[1] + r * np.sin(angle)\n",
    "        dwg.add(dwg.line(center, (x, y), stroke=svgwrite.rgb(0, 0, 0, '%')))\n",
    "\n",
    "    dwg.save()\n",
    "    print(f\"SVG saved to {output_svg}\")\n"
   ]
  },
  {
   "cell_type": "code",
   "execution_count": 12,
   "metadata": {},
   "outputs": [
    {
     "name": "stdout",
     "output_type": "stream",
     "text": [
      "Saved speech to output.wav\n",
      "SVG saved to waveform_polar.svg\n"
     ]
    }
   ],
   "source": [
    "sentence = \"Nothing in nature exists alone\"\n",
    "audio_file = 'output.wav'\n",
    "svg_file = 'waveform_polar.svg'\n",
    "\n",
    "# Step 1: Text-to-Speech\n",
    "text_to_speech(sentence, audio_file)\n",
    "\n",
    "# Step 2: Extract waveform data\n",
    "samples = extract_waveform(audio_file)\n",
    "\n",
    "# Step 3 & 4: Generate polar SVG\n",
    "save_polar_svg(samples, svg_file)\n"
   ]
  },
  {
   "cell_type": "code",
   "execution_count": null,
   "metadata": {},
   "outputs": [],
   "source": []
  }
 ],
 "metadata": {
  "kernelspec": {
   "display_name": ".venv",
   "language": "python",
   "name": "python3"
  },
  "language_info": {
   "codemirror_mode": {
    "name": "ipython",
    "version": 3
   },
   "file_extension": ".py",
   "mimetype": "text/x-python",
   "name": "python",
   "nbconvert_exporter": "python",
   "pygments_lexer": "ipython3",
   "version": "3.10.12"
  }
 },
 "nbformat": 4,
 "nbformat_minor": 2
}
